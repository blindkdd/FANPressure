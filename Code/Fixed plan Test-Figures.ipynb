{
 "cells": [
  {
   "cell_type": "code",
   "execution_count": 1,
   "metadata": {},
   "outputs": [],
   "source": [
    "import envPressureSubsEdges\n",
    "import datetime\n",
    "import numpy as np\n",
    "import random\n",
    "from scipy.special import softmax\n",
    "from scipy import spatial\n",
    "import pickle\n",
    "from tensorboardX import SummaryWriter\n",
    "from numpy import dot\n",
    "from numpy.linalg import norm\n",
    "import torch as th\n",
    "from Net008_inference import *"
   ]
  },
  {
   "cell_type": "code",
   "execution_count": 2,
   "metadata": {},
   "outputs": [],
   "source": [
    "scale =5\n",
    "probDeep = 0.0\n",
    "predSteps = 4\n"
   ]
  },
  {
   "cell_type": "code",
   "execution_count": 3,
   "metadata": {},
   "outputs": [
    {
     "name": "stdout",
     "output_type": "stream",
     "text": [
      "Could not connect to TraCI server at localhost:39755 [Errno 111] Connection refused\n",
      " Retrying in 1 seconds\n",
      "Could not connect to TraCI server at localhost:39755 [Errno 111] Connection refused\n",
      " Retrying in 2 seconds\n"
     ]
    }
   ],
   "source": [
    "environ = envPressureSubsEdges.CornicheEnv(macrostep=10,predefined=True,scale=scale, GUI=True)"
   ]
  },
  {
   "cell_type": "code",
   "execution_count": 4,
   "metadata": {},
   "outputs": [],
   "source": [
    "tls = len(environ.action_space)"
   ]
  },
  {
   "cell_type": "code",
   "execution_count": null,
   "metadata": {},
   "outputs": [],
   "source": [
    "obs = environ.reset()\n",
    "cars,phaseobs = obs"
   ]
  },
  {
   "cell_type": "code",
   "execution_count": null,
   "metadata": {},
   "outputs": [],
   "source": [
    "with open(\"amatrix_edges.pkl\", 'rb') as f:\n",
    "    A = pickle.load(f)\n",
    "    \n",
    "with open(\"stoppedEdges.pkl\", 'rb') as f:\n",
    "    stoppedEdges = pickle.load(f)\n",
    "    \n",
    "indices = {c:i for i,c in enumerate(list(A.columns))}"
   ]
  },
  {
   "cell_type": "code",
   "execution_count": null,
   "metadata": {},
   "outputs": [],
   "source": []
  },
  {
   "cell_type": "code",
   "execution_count": null,
   "metadata": {},
   "outputs": [],
   "source": [
    "name = 'Fixed_scale5'\n",
    "\n",
    "writer = SummaryWriter(comment=\"Evaluation_%s\" % name)"
   ]
  },
  {
   "cell_type": "code",
   "execution_count": null,
   "metadata": {},
   "outputs": [],
   "source": [
    "nids = th.LongTensor([x for x in range(g.number_of_nodes())])\n",
    "\n",
    "def PredictOBS(obs):\n",
    "    entered = torch.zeros((g.number_of_nodes(),1)).cuda().to(DEVICE)\n",
    "    #consider the red all action\n",
    "    freeEdges = 1 - np.sum([stoppedEdges[tl][len(stoppedEdges[tl])-1].values.squeeze() for tl in range(tls)], axis=0)\n",
    "    freeEdges = th.FloatTensor(freeEdges).unsqueeze(1)        \n",
    "\n",
    "    predicted,_, entered = net(g, nids.cuda().to(DEVICE), th.FloatTensor(obs).cuda().to(DEVICE).unsqueeze(1), freeEdges.cuda().to(DEVICE), entered)\n",
    "    for i in range(predSteps-1):\n",
    "        predicted,_, entered = net(g, nids.cuda().to(DEVICE), predicted, freeEdges.cuda().to(DEVICE), entered)\n",
    "    \n",
    "    return predicted"
   ]
  },
  {
   "cell_type": "code",
   "execution_count": null,
   "metadata": {},
   "outputs": [],
   "source": [
    "def tlsPressure(INedges,OUTedges,current,prediction):\n",
    "    global indices\n",
    "    \n",
    "    pIN = th.sum(current[[indices[i] for i in INedges]]).item()\n",
    "    pOUT = th.sum(current[[indices[i] for i in OUTedges]]).item()\n",
    "    \n",
    "    return pIN - pOUT"
   ]
  },
  {
   "cell_type": "code",
   "execution_count": null,
   "metadata": {},
   "outputs": [],
   "source": [
    "def getAllPressures(env,indices,counts):\n",
    "    tlspressures = []\n",
    "    \n",
    "    counts = th.FloatTensor(counts)\n",
    "    \n",
    "    for tlsID in env.phases.getTls():\n",
    "        pressures = []\n",
    "        for phase in env.phases.getTlsPhases(tlsID):\n",
    "            pressure = tlsPressure(env.edgesDict[tlsID][phase][\"incoming\"],env.edgesDict[tlsID][phase][\"outgoing\"],counts, counts)\n",
    "            pressures.append(pressure)\n",
    "        tlspressures.append(pressures)\n",
    "    return tlspressures"
   ]
  },
  {
   "cell_type": "code",
   "execution_count": null,
   "metadata": {},
   "outputs": [
    {
     "name": "stdout",
     "output_type": "stream",
     "text": [
      "0\n",
      "928\n",
      "686\n",
      "1288\n",
      "1862\n",
      "1947\n",
      "2401\n",
      "1066\n",
      "1062\n",
      "932\n",
      "1573\n",
      "1614\n",
      "1040\n",
      "1579\n"
     ]
    }
   ],
   "source": [
    "with open(\"/home/srizzo/Videos/%s\" % name,'w') as fo:\n",
    "    fo.write(\"exp_name\\tstep\\twaitingTime\\tqueue\\tco2\\n\")\n",
    "    for step in range(6*60*24):\n",
    "        random_actions = [environ.action_space[i].sample() for i in range(tls)]\n",
    "        obs,_,_,measures = environ.step(random_actions)\n",
    "        cars,phaseobs = obs\n",
    "        if step%60==0:\n",
    "            time = str(datetime.timedelta(seconds=step))\n",
    "            #print(\"Completed trips at minute %s: %d\" % (time,measures['completed_trips']))\n",
    "            print(\"%d\" % measures['waitingTime'])\n",
    "        writer.add_scalar(\"waitingTime\", measures['waitingTime'], step)\n",
    "        writer.add_scalar(\"queue\", measures['queue'], step)\n",
    "        writer.add_scalar(\"co2\", measures['co2'], step)\n",
    "        environ.conn.gui.screenshot('View #0','/home/srizzo/Videos/screenshots/%s_%d.png' % (name,step))\n",
    "        fo.write(\"%s\\t%d\\t%d\\t%d\\t%2f\\n\" % (name,step,measures['waitingTime'],measures['queue'],measures['co2']))"
   ]
  },
  {
   "cell_type": "code",
   "execution_count": null,
   "metadata": {},
   "outputs": [],
   "source": [
    "pressures[0]"
   ]
  },
  {
   "cell_type": "code",
   "execution_count": null,
   "metadata": {},
   "outputs": [],
   "source": [
    "pressures"
   ]
  },
  {
   "cell_type": "code",
   "execution_count": null,
   "metadata": {},
   "outputs": [],
   "source": [
    "[indices[i] for i in [0,2,3]]"
   ]
  },
  {
   "cell_type": "code",
   "execution_count": null,
   "metadata": {},
   "outputs": [],
   "source": [
    "random.random()"
   ]
  },
  {
   "cell_type": "code",
   "execution_count": null,
   "metadata": {},
   "outputs": [],
   "source": [
    "stoppedEdges"
   ]
  },
  {
   "cell_type": "code",
   "execution_count": null,
   "metadata": {},
   "outputs": [],
   "source": []
  }
 ],
 "metadata": {
  "kernelspec": {
   "display_name": "Python 3",
   "language": "python",
   "name": "python3"
  },
  "language_info": {
   "codemirror_mode": {
    "name": "ipython",
    "version": 3
   },
   "file_extension": ".py",
   "mimetype": "text/x-python",
   "name": "python",
   "nbconvert_exporter": "python",
   "pygments_lexer": "ipython3",
   "version": "3.6.7"
  }
 },
 "nbformat": 4,
 "nbformat_minor": 2
}
