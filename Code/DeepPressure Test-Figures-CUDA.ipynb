{
 "cells": [
  {
   "cell_type": "code",
   "execution_count": 3,
   "metadata": {
    "collapsed": true
   },
   "outputs": [],
   "source": [
    "import envPressureSubsEdges\n",
    "import datetime\n",
    "import numpy as np\n",
    "import random\n",
    "from scipy.special import softmax\n",
    "from scipy import spatial\n",
    "import pickle\n",
    "from tensorboardX import SummaryWriter\n",
    "from numpy import dot\n",
    "from numpy.linalg import norm\n",
    "import torch as th\n",
    "from Net008_inference import *"
   ]
  },
  {
   "cell_type": "code",
   "execution_count": 4,
   "metadata": {},
   "outputs": [],
   "source": [
    "scale = 9\n",
    "probDeep = 1.0\n",
    "predSteps = 3\n",
    "saveFigures = False"
   ]
  },
  {
   "cell_type": "code",
   "execution_count": null,
   "metadata": {},
   "outputs": [
    {
     "name": "stdout",
     "output_type": "stream",
     "text": [
      " Retrying in 1 seconds\n",
      "Could not connect to TraCI server at localhost:55158 [Errno 61] Connection refused\n",
      " Retrying in 2 seconds\n",
      "Could not connect to TraCI server at localhost:55158 [Errno 61] Connection refused\n",
      " Retrying in 3 seconds\n",
      "Could not connect to TraCI server at localhost:55158 [Errno 61] Connection refused\n",
      " Retrying in 4 seconds\n"
     ]
    }
   ],
   "source": [
    "environ = envPressureSubsEdges.CornicheEnv(macrostep=10,predefined=False,scale=scale, GUI=True)"
   ]
  },
  {
   "cell_type": "code",
   "execution_count": null,
   "metadata": {},
   "outputs": [],
   "source": [
    "tls = len(environ.action_space)"
   ]
  },
  {
   "cell_type": "code",
   "execution_count": null,
   "metadata": {},
   "outputs": [],
   "source": [
    "obs = environ.reset()\n",
    "cars,phaseobs = obs"
   ]
  },
  {
   "cell_type": "code",
   "execution_count": null,
   "metadata": {},
   "outputs": [],
   "source": [
    "with open(\"amatrix_edges.pkl\", 'rb') as f:\n",
    "    A = pickle.load(f)\n",
    "    \n",
    "with open(\"stoppedEdges.pkl\", 'rb') as f:\n",
    "    stoppedEdges = pickle.load(f)\n",
    "    \n",
    "indices = {c:i for i,c in enumerate(list(A.columns))}"
   ]
  },
  {
   "cell_type": "code",
   "execution_count": null,
   "metadata": {},
   "outputs": [],
   "source": [
    "net = th.load(\"Corniche_GATFlow_OneOmbedding_4steps_1epochs_10 s_Episode17_008_scale6_simplified.model\").cuda().to(DEVICE)"
   ]
  },
  {
   "cell_type": "code",
   "execution_count": null,
   "metadata": {},
   "outputs": [],
   "source": []
  },
  {
   "cell_type": "code",
   "execution_count": null,
   "metadata": {},
   "outputs": [],
   "source": [
    "name = 'DeepPressure_008inf_%dsteps_INprediction_%1.2f_scale%d' % (predSteps,probDeep,scale)\n",
    "\n",
    "writer = SummaryWriter(comment=\"Evaluation_Softmax_%s\" % name)"
   ]
  },
  {
   "cell_type": "code",
   "execution_count": null,
   "metadata": {},
   "outputs": [],
   "source": [
    "nids = th.LongTensor([x for x in range(g.number_of_nodes())])\n",
    "\n",
    "def PredictOBS(obs):\n",
    "    entered = torch.zeros((g.number_of_nodes(),1)).cuda().to(DEVICE)\n",
    "    #consider the red all action\n",
    "    freeEdges = 1 - np.sum([stoppedEdges[tl][len(stoppedEdges[tl])-1].values.squeeze() for tl in range(tls)], axis=0)\n",
    "    freeEdges = th.FloatTensor(freeEdges).unsqueeze(1)        \n",
    "\n",
    "    predicted,_, entered = net(g, nids.cuda().to(DEVICE), th.FloatTensor(obs).cuda().to(DEVICE).unsqueeze(1), freeEdges.cuda().to(DEVICE), entered)\n",
    "    for i in range(predSteps-1):\n",
    "        predicted,_, entered = net(g, nids.cuda().to(DEVICE), predicted, freeEdges.cuda().to(DEVICE), entered)\n",
    "    \n",
    "    return predicted"
   ]
  },
  {
   "cell_type": "code",
   "execution_count": null,
   "metadata": {},
   "outputs": [],
   "source": [
    "def tlsPressure(INedges,OUTedges,current,prediction):\n",
    "    global indices\n",
    "    \n",
    "    if random.random()>0.5:\n",
    "        pIN = th.sum(prediction[[indices[i] for i in INedges]]).item()\n",
    "    else:\n",
    "        pIN = th.sum(current[[indices[i] for i in INedges]]).item()\n",
    "    \n",
    "    \n",
    "    pOUT = th.sum(current[[indices[i] for i in OUTedges]]).item()\n",
    "    \n",
    "    return pIN - pOUT"
   ]
  },
  {
   "cell_type": "code",
   "execution_count": null,
   "metadata": {},
   "outputs": [],
   "source": [
    "def getAllPressures(env,indices,counts):\n",
    "    tlspressures = []\n",
    "    \n",
    "    prediction = PredictOBS(counts)\n",
    "    counts = th.FloatTensor(counts)\n",
    "    \n",
    "    for tlsID in env.phases.getTls():\n",
    "        pressures = []\n",
    "        for phase in env.phases.getTlsPhases(tlsID):\n",
    "            pressure = tlsPressure(env.edgesDict[tlsID][phase][\"incoming\"],env.edgesDict[tlsID][phase][\"outgoing\"],counts, prediction)\n",
    "            pressures.append(pressure)\n",
    "        tlspressures.append(pressures)\n",
    "    return tlspressures"
   ]
  },
  {
   "cell_type": "code",
   "execution_count": null,
   "metadata": {},
   "outputs": [],
   "source": [
    "with open(\"./%s\" % name,'w') as fo:\n",
    "    fo.write(\"exp_name\\tstep\\twaitingTime\\tqueue\\tco2\\n\")\n",
    "    for step in range(6*60*24):\n",
    "        pressures = getAllPressures(environ,indices,cars)\n",
    "        actions = [ np.argmax(pressures[i]) for i in range(tls)]\n",
    "        obs,_,_,measures = environ.step(actions)\n",
    "        cars,phaseobs = obs\n",
    "        if step%60==0:\n",
    "            time = str(datetime.timedelta(seconds=step))\n",
    "            #print(\"Completed trips at minute %s: %d\" % (time,measures['completed_trips']))\n",
    "            print(\"%d\" % measures['waitingTime'])\n",
    "        writer.add_scalar(\"waitingTime\", measures['waitingTime'], step)\n",
    "        writer.add_scalar(\"queue\", measures['queue'], step)\n",
    "        writer.add_scalar(\"co2\", measures['co2'], step)\n",
    "        if saveFigures:\n",
    "            environ.conn.gui.screenshot('View #0','./screenshots/%s_%d.png' % (name,step))\n",
    "            fo.write(\"%s\\t%d\\t%d\\t%d\\t%2f\\n\" % (name,step,measures['waitingTime'],measures['queue'],measures['co2']))"
   ]
  },
  {
   "cell_type": "code",
   "execution_count": null,
   "metadata": {},
   "outputs": [],
   "source": [
    "pressures[0]"
   ]
  },
  {
   "cell_type": "code",
   "execution_count": null,
   "metadata": {},
   "outputs": [],
   "source": [
    "pressures"
   ]
  },
  {
   "cell_type": "code",
   "execution_count": null,
   "metadata": {},
   "outputs": [],
   "source": [
    "[indices[i] for i in [0,2,3]]"
   ]
  },
  {
   "cell_type": "code",
   "execution_count": null,
   "metadata": {},
   "outputs": [],
   "source": [
    "random.random()"
   ]
  },
  {
   "cell_type": "code",
   "execution_count": null,
   "metadata": {},
   "outputs": [],
   "source": [
    "stoppedEdges"
   ]
  },
  {
   "cell_type": "code",
   "execution_count": null,
   "metadata": {},
   "outputs": [],
   "source": []
  }
 ],
 "metadata": {
  "kernelspec": {
   "display_name": "Python 3",
   "language": "python",
   "name": "python3"
  },
  "language_info": {
   "codemirror_mode": {
    "name": "ipython",
    "version": 3
   },
   "file_extension": ".py",
   "mimetype": "text/x-python",
   "name": "python",
   "nbconvert_exporter": "python",
   "pygments_lexer": "ipython3",
   "version": "3.7.4"
  }
 },
 "nbformat": 4,
 "nbformat_minor": 2
}
